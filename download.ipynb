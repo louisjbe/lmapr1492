{
 "cells": [
  {
   "cell_type": "code",
   "execution_count": 8,
   "id": "b1e21a6a",
   "metadata": {},
   "outputs": [],
   "source": [
    "from pymatgen.ext.matproj import MPRester\n",
    "with MPRester(\"hGWi2mG3AMC2JfpV0r\") as m:\n",
    "\n",
    "    # Structure for material id\n",
    "    structure = m.get_structure_by_material_id(\"mp-36111\")\n",
    "\n",
    "structure.to(filename=\"LiMgP.cif\")"
   ]
  },
  {
   "cell_type": "code",
   "execution_count": null,
   "id": "7f0d9cce",
   "metadata": {},
   "outputs": [],
   "source": []
  }
 ],
 "metadata": {
  "kernelspec": {
   "display_name": "Python 3",
   "language": "python",
   "name": "python3"
  },
  "language_info": {
   "codemirror_mode": {
    "name": "ipython",
    "version": 3
   },
   "file_extension": ".py",
   "mimetype": "text/x-python",
   "name": "python",
   "nbconvert_exporter": "python",
   "pygments_lexer": "ipython3",
   "version": "3.6.8"
  }
 },
 "nbformat": 4,
 "nbformat_minor": 5
}
