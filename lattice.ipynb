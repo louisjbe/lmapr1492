{
 "cells": [
  {
   "cell_type": "code",
   "execution_count": 4,
   "id": "32672a1d",
   "metadata": {},
   "outputs": [
    {
     "name": "stdout",
     "output_type": "stream",
     "text": [
      "Vecteurs de bases du réseau direct:\n",
      "\n",
      "0.000000 3.008190 3.008190\n",
      "3.008190 0.000000 3.008190\n",
      "3.008190 3.008190 0.000000\n",
      "\n",
      "\n",
      "Vecteurs de bases du réseau réciproque:\n",
      "\n",
      "-1.044346 1.044346 1.044346\n",
      "1.044346 -1.044346 1.044346\n",
      "1.044346 1.044346 -1.044346\n",
      "\n",
      "\n",
      "Type de maille: cubic\n",
      "Systeme crystallin: cubic\n",
      "Groupe ponctuel: -43m\n"
     ]
    }
   ],
   "source": [
    "from pymatgen.ext.matproj import MPRester\n",
    "from pymatgen.core.lattice import Lattice as L\n",
    "from pymatgen import Structure\n",
    "from pymatgen.symmetry.analyzer import SpacegroupAnalyzer\n",
    "\n",
    "with MPRester(\"hGWi2mG3AMC2JfpV0r\") as m:\n",
    "\n",
    "    LiMgP = m.get_structure_by_material_id(\"mp-36111\")\n",
    "    \n",
    "print(\"Vecteurs de bases du réseau direct:\"+\"\\n\")\n",
    "print(LiMgP.lattice)\n",
    "print(\"\\n\")\n",
    "\n",
    "print(\"Vecteurs de bases du réseau réciproque:\"+\"\\n\")\n",
    "print(LiMgP.lattice.reciprocal_lattice)\n",
    "print(\"\\n\")\n",
    "\n",
    "print(\"Type de maille:\",SpacegroupAnalyzer(LiMgP).get_lattice_type())\n",
    "print(\"Systeme crystallin:\",SpacegroupAnalyzer(LiMgP).get_crystal_system())\n",
    "print(\"Groupe ponctuel:\",SpacegroupAnalyzer(LiMgP).get_point_group_symbol())"
   ]
  },
  {
   "cell_type": "code",
   "execution_count": null,
   "id": "625d6cfc",
   "metadata": {},
   "outputs": [],
   "source": []
  },
  {
   "cell_type": "code",
   "execution_count": null,
   "id": "14d111ac",
   "metadata": {},
   "outputs": [],
   "source": []
  }
 ],
 "metadata": {
  "kernelspec": {
   "display_name": "Python 3",
   "language": "python",
   "name": "python3"
  },
  "language_info": {
   "codemirror_mode": {
    "name": "ipython",
    "version": 3
   },
   "file_extension": ".py",
   "mimetype": "text/x-python",
   "name": "python",
   "nbconvert_exporter": "python",
   "pygments_lexer": "ipython3",
   "version": "3.6.8"
  }
 },
 "nbformat": 4,
 "nbformat_minor": 5
}
