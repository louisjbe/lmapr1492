{
 "cells": [
  {
   "cell_type": "code",
   "execution_count": 18,
   "id": "263edf0e",
   "metadata": {},
   "outputs": [
    {
     "name": "stdout",
     "output_type": "stream",
     "text": [
      "[PeriodicSite: Li (1.5041, 1.5041, 4.5123) [0.2500, 0.2500, 0.7500], PeriodicSite: Li (1.5041, 4.5123, 1.5041) [0.2500, 0.7500, 0.2500], PeriodicSite: Li (4.5123, 1.5041, 1.5041) [0.7500, 0.2500, 0.2500], PeriodicSite: Li (4.5123, 4.5123, 4.5123) [0.7500, 0.7500, 0.7500], PeriodicSite: Mg (1.5041, 1.5041, 1.5041) [0.2500, 0.2500, 0.2500], PeriodicSite: Mg (1.5041, 4.5123, 4.5123) [0.2500, 0.7500, 0.7500], PeriodicSite: Mg (4.5123, 1.5041, 4.5123) [0.7500, 0.2500, 0.7500], PeriodicSite: Mg (4.5123, 4.5123, 1.5041) [0.7500, 0.7500, 0.2500], PeriodicSite: P (0.0000, 0.0000, 0.0000) [0.0000, 0.0000, 0.0000], PeriodicSite: P (0.0000, 3.0082, 3.0082) [0.0000, 0.5000, 0.5000], PeriodicSite: P (3.0082, 0.0000, 3.0082) [0.5000, 0.0000, 0.5000], PeriodicSite: P (3.0082, 3.0082, 0.0000) [0.5000, 0.5000, 0.0000]]\n"
     ]
    }
   ],
   "source": [
    "from pymatgen.ext.matproj import MPRester\n",
    "from pymatgen.ext.matproj import SpacegroupAnalyzer \n",
    "from pymatgen.core.operations import SymmOp\n",
    "from jupyter_jsmol.pymatgen import quick_view\n",
    "\n",
    "with MPRester (\"hGWi2mG3AMC2JfpV0r\") as m:\n",
    "    \n",
    "    #Création de la structure du cristal à partir du MP\n",
    "    structure = m.get_structure_by_material_id(\"mp-36111\")\n",
    "    \n",
    "\n",
    "struct = SpacegroupAnalyzer(structure)\n",
    "struct_conv = struct.get_conventional_standard_structure()\n",
    "struct_analyze = SpacegroupAnalyzer(struct_conv)\n",
    "sym_op = struct_analyze.get_symmetry_operations()\n",
    "sites = struct_conv.sites\n",
    "print(sites)"
   ]
  },
  {
   "cell_type": "code",
   "execution_count": 114,
   "id": "dfce1a71",
   "metadata": {},
   "outputs": [
    {
     "data": {
      "application/vnd.jupyter.widget-view+json": {
       "model_id": "18912b3d86f54ea3af83f66f059f0042",
       "version_major": 2,
       "version_minor": 0
      },
      "text/plain": [
       "JsmolView(layout=Layout(align_self='stretch', height='400px'))"
      ]
     },
     "metadata": {},
     "output_type": "display_data"
    }
   ],
   "source": [
    "view = quick_view(struct_conv)\n",
    "display(view)\n",
    "view.script('draw symop 22 {atomno = 1}')"
   ]
  },
  {
   "cell_type": "code",
   "execution_count": 115,
   "id": "5afcbeec",
   "metadata": {},
   "outputs": [
    {
     "name": "stdout",
     "output_type": "stream",
     "text": [
      "Première opération de symétrie:\n",
      "Rot:\n",
      "[[ 0.  1.  0.]\n",
      " [ 0.  0. -1.]\n",
      " [-1.  0.  0.]]\n",
      "tau\n",
      "[0. 0. 0.]\n",
      "C'est une réflexion\n",
      "(x, y ,z)->(x, z, y)\n"
     ]
    }
   ],
   "source": [
    "print(\"Première opération de symétrie:\")\n",
    "print(sym_op[22])\n",
    "print(\"C'est une réflexion\")\n",
    "print(\"(x, y ,z)->(x, z, y)\")"
   ]
  },
  {
   "cell_type": "code",
   "execution_count": 73,
   "id": "1cafc6de",
   "metadata": {
    "scrolled": false
   },
   "outputs": [
    {
     "data": {
      "application/vnd.jupyter.widget-view+json": {
       "model_id": "595773f990f04396b3714226539c8585",
       "version_major": 2,
       "version_minor": 0
      },
      "text/plain": [
       "JsmolView(layout=Layout(align_self='stretch', height='400px'))"
      ]
     },
     "metadata": {},
     "output_type": "display_data"
    }
   ],
   "source": [
    "view = quick_view(struct_conv)\n",
    "display(view)\n",
    "view.script('draw symop 38 {atomno = 2}')\n"
   ]
  },
  {
   "cell_type": "code",
   "execution_count": 75,
   "id": "85c084ec",
   "metadata": {},
   "outputs": [
    {
     "name": "stdout",
     "output_type": "stream",
     "text": [
      "Deuxième opération de symétrie:\n",
      "Rot:\n",
      "[[ 0.  0. -1.]\n",
      " [-1.  0.  0.]\n",
      " [ 0.  1.  0.]]\n",
      "tau\n",
      "[0.5 0.5 0. ]\n",
      "C'est une réflexion avec glissement (réflexion + translation)\n",
      "(x, y ,z)->(z+1/2, y+1/2, x)\n"
     ]
    }
   ],
   "source": [
    "print(\"Deuxième opération de symétrie:\")\n",
    "print(sym_op[38])\n",
    "print(\"C'est une réflexion avec glissement (réflexion + translation)\")\n",
    "print(\"(x, y ,z)->(z+1/2, y+1/2, x)\")"
   ]
  },
  {
   "cell_type": "code",
   "execution_count": 112,
   "id": "09bbe6e0",
   "metadata": {},
   "outputs": [
    {
     "data": {
      "application/vnd.jupyter.widget-view+json": {
       "model_id": "859ba87adb9040068a95dd90d1001562",
       "version_major": 2,
       "version_minor": 0
      },
      "text/plain": [
       "JsmolView(layout=Layout(align_self='stretch', height='400px'))"
      ]
     },
     "metadata": {},
     "output_type": "display_data"
    }
   ],
   "source": [
    "view = quick_view(struct_conv)\n",
    "display(view)\n",
    "view.script('draw symop 31 {atomno = 3}')"
   ]
  },
  {
   "cell_type": "code",
   "execution_count": 116,
   "id": "6468196f",
   "metadata": {},
   "outputs": [
    {
     "name": "stdout",
     "output_type": "stream",
     "text": [
      "Troisième opération de symétrie:\n",
      "Rot:\n",
      "[[ 0. -1.  0.]\n",
      " [-1.  0.  0.]\n",
      " [ 0.  0.  1.]]\n",
      "tau\n",
      "[0.5 0.5 0. ]\n",
      "C'est une rotation hélicoidale (rotation + translation)\n",
      "(x, y ,z)->(-x+1/2, y+1/2, -z)\n"
     ]
    }
   ],
   "source": [
    "print(\"Troisième opération de symétrie:\")\n",
    "print(sym_op[31])\n",
    "print(\"C'est une rotation hélicoidale (rotation + translation)\")\n",
    "print(\"(x, y ,z)->(-x+1/2, y+1/2, -z)\")"
   ]
  },
  {
   "cell_type": "code",
   "execution_count": null,
   "id": "dc9520f9",
   "metadata": {},
   "outputs": [],
   "source": []
  }
 ],
 "metadata": {
  "kernelspec": {
   "display_name": "Python 3",
   "language": "python",
   "name": "python3"
  },
  "language_info": {
   "codemirror_mode": {
    "name": "ipython",
    "version": 3
   },
   "file_extension": ".py",
   "mimetype": "text/x-python",
   "name": "python",
   "nbconvert_exporter": "python",
   "pygments_lexer": "ipython3",
   "version": "3.6.8"
  }
 },
 "nbformat": 4,
 "nbformat_minor": 5
}
